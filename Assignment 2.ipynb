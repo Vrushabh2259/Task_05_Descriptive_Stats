{
 "cells": [
  {
   "cell_type": "code",
   "execution_count": 1,
   "id": "f494f4eb-c429-4a1c-9ea9-2749017cd81e",
   "metadata": {},
   "outputs": [
    {
     "data": {
      "text/html": [
       "<div>\n",
       "<style scoped>\n",
       "    .dataframe tbody tr th:only-of-type {\n",
       "        vertical-align: middle;\n",
       "    }\n",
       "\n",
       "    .dataframe tbody tr th {\n",
       "        vertical-align: top;\n",
       "    }\n",
       "\n",
       "    .dataframe thead th {\n",
       "        text-align: right;\n",
       "    }\n",
       "</style>\n",
       "<table border=\"1\" class=\"dataframe\">\n",
       "  <thead>\n",
       "    <tr style=\"text-align: right;\">\n",
       "      <th></th>\n",
       "      <th>match_id</th>\n",
       "      <th>date</th>\n",
       "      <th>venue</th>\n",
       "      <th>team_1</th>\n",
       "      <th>team_2</th>\n",
       "      <th>stage</th>\n",
       "      <th>toss-winner</th>\n",
       "      <th>toss_decision</th>\n",
       "      <th>first_ings_score</th>\n",
       "      <th>first_ings_wkts</th>\n",
       "      <th>second_ings_score</th>\n",
       "      <th>second_ings_wkts</th>\n",
       "      <th>match_winner</th>\n",
       "      <th>won_by</th>\n",
       "      <th>margin</th>\n",
       "      <th>player_of_the_match</th>\n",
       "      <th>top_scorer</th>\n",
       "      <th>highscore</th>\n",
       "      <th>best_bowling</th>\n",
       "      <th>Unnamed: 19</th>\n",
       "    </tr>\n",
       "  </thead>\n",
       "  <tbody>\n",
       "    <tr>\n",
       "      <th>0</th>\n",
       "      <td>1</td>\n",
       "      <td>22-Mar-25</td>\n",
       "      <td>Kolkata</td>\n",
       "      <td>Kolkata Knight Riders</td>\n",
       "      <td>Royal Challengers Bengaluru</td>\n",
       "      <td>NaN</td>\n",
       "      <td>Royal Challengers Bengaluru</td>\n",
       "      <td>Bowling</td>\n",
       "      <td>174</td>\n",
       "      <td>8</td>\n",
       "      <td>177</td>\n",
       "      <td>3.0</td>\n",
       "      <td>Royal Challengers Bengaluru</td>\n",
       "      <td>Wickets</td>\n",
       "      <td>7.0</td>\n",
       "      <td>Krunal Pandya</td>\n",
       "      <td>Virat Kohli</td>\n",
       "      <td>59.0</td>\n",
       "      <td>Krunal Pandya</td>\n",
       "      <td>NaN</td>\n",
       "    </tr>\n",
       "    <tr>\n",
       "      <th>1</th>\n",
       "      <td>2</td>\n",
       "      <td>23-Mar-25</td>\n",
       "      <td>Hyderabad</td>\n",
       "      <td>Sunrisers Hyderabad</td>\n",
       "      <td>Rajasthan Royals</td>\n",
       "      <td>NaN</td>\n",
       "      <td>Rajasthan Royals</td>\n",
       "      <td>Bowling</td>\n",
       "      <td>286</td>\n",
       "      <td>6</td>\n",
       "      <td>242</td>\n",
       "      <td>6.0</td>\n",
       "      <td>Sunrisers Hyderabad</td>\n",
       "      <td>Runs</td>\n",
       "      <td>44.0</td>\n",
       "      <td>Ishan Kishan</td>\n",
       "      <td>Ishan Kishan</td>\n",
       "      <td>106.0</td>\n",
       "      <td>Tushar Deshpande</td>\n",
       "      <td>NaN</td>\n",
       "    </tr>\n",
       "  </tbody>\n",
       "</table>\n",
       "</div>"
      ],
      "text/plain": [
       "   match_id       date      venue                 team_1  \\\n",
       "0         1  22-Mar-25    Kolkata  Kolkata Knight Riders   \n",
       "1         2  23-Mar-25  Hyderabad    Sunrisers Hyderabad   \n",
       "\n",
       "                        team_2  stage                  toss-winner  \\\n",
       "0  Royal Challengers Bengaluru    NaN  Royal Challengers Bengaluru   \n",
       "1             Rajasthan Royals    NaN             Rajasthan Royals   \n",
       "\n",
       "  toss_decision first_ings_score first_ings_wkts second_ings_score  \\\n",
       "0       Bowling              174               8               177   \n",
       "1       Bowling              286               6               242   \n",
       "\n",
       "   second_ings_wkts                 match_winner   won_by  margin  \\\n",
       "0               3.0  Royal Challengers Bengaluru  Wickets     7.0   \n",
       "1               6.0          Sunrisers Hyderabad     Runs    44.0   \n",
       "\n",
       "  player_of_the_match    top_scorer  highscore      best_bowling  Unnamed: 19  \n",
       "0       Krunal Pandya  Virat Kohli        59.0     Krunal Pandya          NaN  \n",
       "1        Ishan Kishan  Ishan Kishan      106.0  Tushar Deshpande          NaN  "
      ]
     },
     "execution_count": 1,
     "metadata": {},
     "output_type": "execute_result"
    }
   ],
   "source": [
    "import pandas as pd\n",
    "\n",
    "df = pd.read_csv(\"ipl_dataset_2025.csv\")\n",
    "\n",
    "df.head(2)\n"
   ]
  },
  {
   "cell_type": "code",
   "execution_count": 2,
   "id": "6706c6cc-f2b4-4dfc-a886-b565ffd50ebc",
   "metadata": {},
   "outputs": [
    {
     "data": {
      "text/plain": [
       "match_id                 int64\n",
       "date                    object\n",
       "venue                   object\n",
       "team_1                  object\n",
       "team_2                  object\n",
       "stage                  float64\n",
       "toss-winner             object\n",
       "toss_decision           object\n",
       "first_ings_score        object\n",
       "first_ings_wkts         object\n",
       "second_ings_score       object\n",
       "second_ings_wkts       float64\n",
       "match_winner            object\n",
       "won_by                  object\n",
       "margin                 float64\n",
       "player_of_the_match     object\n",
       "top_scorer              object\n",
       "highscore              float64\n",
       "best_bowling            object\n",
       "Unnamed: 19            float64\n",
       "dtype: object"
      ]
     },
     "execution_count": 2,
     "metadata": {},
     "output_type": "execute_result"
    }
   ],
   "source": [
    "# Check data types of all columns\n",
    "df.dtypes\n"
   ]
  },
  {
   "cell_type": "code",
   "execution_count": 8,
   "id": "d9ba26dd-616e-40b3-80a8-fcb633c7b88f",
   "metadata": {},
   "outputs": [
    {
     "name": "stdout",
     "output_type": "stream",
     "text": [
      "Team with Highest Win Rate in High-Scoring Matches (>180):\n",
      "           Team  Win_Rate\n",
      "0  Punjab Kings  0.170213\n"
     ]
    }
   ],
   "source": [
    "# Which team had the highest win rate in high-scoring matches (total score > 180)?\n",
    "df['first_ings_score'] = pd.to_numeric(df['first_ings_score'], errors='coerce')\n",
    "df['second_ings_score'] = pd.to_numeric(df['second_ings_score'], errors='coerce')\n",
    "\n",
    "high_score_matches = df[(df['first_ings_score'] > 180) | (df['second_ings_score'] > 180)]\n",
    "win_counts = high_score_matches['match_winner'].value_counts(normalize=True).reset_index()\n",
    "win_counts.columns = ['Team', 'Win_Rate']\n",
    "\n",
    "print(\"Team with Highest Win Rate in High-Scoring Matches (>180):\")\n",
    "print(win_counts.head(1))"
   ]
  },
  {
   "cell_type": "code",
   "execution_count": 9,
   "id": "72434f11-5c0b-490c-b016-13b673e0e2ae",
   "metadata": {},
   "outputs": [
    {
     "name": "stdout",
     "output_type": "stream",
     "text": [
      " Batting First Win Rate: 52.7%\n",
      " Chasing Win Rate: 47.3%\n"
     ]
    }
   ],
   "source": [
    "# When a team batted first, how often did they win compared to chasing teams?\n",
    "df['team_batting_first'] = df.apply(\n",
    "    lambda row: row['team_1'] if row['toss_decision'] == 'Batting' else row['team_2'], axis=1)\n",
    "bat_first_wins = (df['team_batting_first'] == df['match_winner']).sum()\n",
    "total_matches = len(df)\n",
    "\n",
    "bat_win_rate = round(bat_first_wins / total_matches * 100, 2)\n",
    "chase_win_rate = round(100 - bat_win_rate, 2)\n",
    "\n",
    "print(f\" Batting First Win Rate: {bat_win_rate}%\")\n",
    "print(f\" Chasing Win Rate: {chase_win_rate}%\")"
   ]
  },
  {
   "cell_type": "code",
   "execution_count": 10,
   "id": "de3e6b34-669a-4d45-af5e-2ab7d9f6989f",
   "metadata": {},
   "outputs": [
    {
     "name": "stdout",
     "output_type": "stream",
     "text": [
      " Venue with Most Close Matches:\n",
      "            Venue  Close_Match_Count\n",
      "0  Vishakhapatnam                  1\n"
     ]
    }
   ],
   "source": [
    "# Which city/venue saw the most closely contested matches (margin < 10 runs or < 2 wickets)?\n",
    "df['margin'] = pd.to_numeric(df['margin'], errors='coerce')\n",
    "\n",
    "close_matches = df[\n",
    "    ((df['won_by'] == 'Runs') & (df['margin'] < 10)) |\n",
    "    ((df['won_by'] == 'Wickets') & (df['margin'] < 2))\n",
    "]\n",
    "\n",
    "venue_counts = close_matches['venue'].value_counts().reset_index()\n",
    "venue_counts.columns = ['Venue', 'Close_Match_Count']\n",
    "\n",
    "print(\" Venue with Most Close Matches:\")\n",
    "print(venue_counts.head(1))"
   ]
  },
  {
   "cell_type": "code",
   "execution_count": 11,
   "id": "d080bb61-b4dc-46e0-8d0b-c67767ca5215",
   "metadata": {},
   "outputs": [
    {
     "name": "stdout",
     "output_type": "stream",
     "text": [
      " Player of the Match from Losing Team: 98.65% of matches\n"
     ]
    }
   ],
   "source": [
    "# How often did the Player of the Match come from the losing team?\n",
    "df['potm_lost'] = df['player_of_the_match'] != df['match_winner']\n",
    "count_lost = df['potm_lost'].sum()\n",
    "total = len(df)\n",
    "rate = round(count_lost / total * 100, 2)\n",
    "\n",
    "print(f\" Player of the Match from Losing Team: {rate}% of matches\")"
   ]
  },
  {
   "cell_type": "code",
   "execution_count": 13,
   "id": "f610e2cc-5526-4792-a37c-d3764817d0f8",
   "metadata": {},
   "outputs": [
    {
     "name": "stdout",
     "output_type": "stream",
     "text": [
      "Krunal Pandya impact score: 9\n",
      "Prasidh Krishna impact score: 7\n",
      "Krunal Pandya contributed more\n"
     ]
    }
   ],
   "source": [
    "#  Which player contributed more: Krunal Pandya or Prasidh Krishna?\n",
    "def impact(player):\n",
    "    return (\n",
    "        (df['player_of_the_match'] == player).sum() +\n",
    "        (df['top_scorer'] == player).sum() +\n",
    "        (df['best_bowling'] == player).sum()\n",
    "    )\n",
    "\n",
    "krunal = impact(\"Krunal Pandya\")\n",
    "prasidh = impact(\"Prasidh Krishna\")\n",
    "\n",
    "print(f\"Krunal Pandya impact score: {krunal}\")\n",
    "print(f\"Prasidh Krishna impact score: {prasidh}\")\n",
    "\n",
    "if krunal > prasidh:\n",
    "    print(\"Krunal Pandya contributed more\")\n",
    "elif prasidh > krunal:\n",
    "    print(\"Prasidh Krishna contributed more\")\n",
    "else:\n",
    "    print(\"Both contributed equally\")"
   ]
  },
  {
   "cell_type": "code",
   "execution_count": 15,
   "id": "e898c5f1-d65d-4dfa-af1b-b7edf85fb07a",
   "metadata": {},
   "outputs": [
    {
     "name": "stdout",
     "output_type": "stream",
     "text": [
      "🎯 Bowler performances (best bowling): 74\n",
      "🏏 Batter performances (top scorer): 74\n",
      "Equal match-winning performances\n"
     ]
    }
   ],
   "source": [
    "# Who had more match-winning performances — bowlers or batters?\n",
    "bowlers = df['best_bowling'].value_counts().sum()\n",
    "batters = df['top_scorer'].value_counts().sum()\n",
    "\n",
    "print(f\"🎯 Bowler performances (best bowling): {bowlers}\")\n",
    "print(f\"🏏 Batter performances (top scorer): {batters}\")\n",
    "\n",
    "if bowlers > batters:\n",
    "    print(\"Bowlers had more match-winning performances\")\n",
    "elif batters > bowlers:\n",
    "    print(\"Batters had more match-winning performances\")\n",
    "else:\n",
    "    print(\"Equal match-winning performances\")"
   ]
  },
  {
   "cell_type": "code",
   "execution_count": 16,
   "id": "5eacfe7f-0161-40aa-8872-da44df60d3d0",
   "metadata": {},
   "outputs": [
    {
     "name": "stdout",
     "output_type": "stream",
     "text": [
      " Most effective toss team: Royal Challengers Bengaluru with a 85.71% win rate after winning the toss.\n"
     ]
    }
   ],
   "source": [
    "# Clean column names\n",
    "# Which team made the most effective toss decisions — i.e., had the highest win rate after winning the toss?\n",
    "df['match_winner'] = df['match_winner'].astype(str)\n",
    "df['toss-winner'] = df['toss-winner'].astype(str)\n",
    "\n",
    "# Calculate win rate after winning toss\n",
    "toss_wins = df[df['toss-winner'] == df['match_winner']]\n",
    "toss_effectiveness = toss_wins['toss-winner'].value_counts() / df['toss-winner'].value_counts()\n",
    "toss_effectiveness = toss_effectiveness.dropna().sort_values(ascending=False)\n",
    "\n",
    "top_team = toss_effectiveness.index[0]\n",
    "top_rate = round(toss_effectiveness.iloc[0] * 100, 2)\n",
    "\n",
    "print(f\" Most effective toss team: {top_team} with a {top_rate}% win rate after winning the toss.\")"
   ]
  },
  {
   "cell_type": "code",
   "execution_count": 19,
   "id": "87d4c020-27cf-4252-9c86-589b793b9a5a",
   "metadata": {},
   "outputs": [
    {
     "name": "stdout",
     "output_type": "stream",
     "text": [
      "Chi-Square Test: Bowling vs Batting First\n",
      "P-value: 0.7848\n",
      "No statistically significant advantage between bowling or batting first.\n"
     ]
    }
   ],
   "source": [
    "#  Is there a statistically significant advantage to bowling first vs. batting first across all venues?\n",
    "from scipy.stats import chi2_contingency\n",
    "\n",
    "# Determine if toss winner chose to bat or bowl\n",
    "df['batting_first'] = df['toss_decision'].apply(lambda x: 1 if x == 'Batting' else 0)\n",
    "df['batting_first_won'] = df.apply(\n",
    "    lambda row: row['match_winner'] == row['team_1'] if row['toss_decision'] == 'Batting'\n",
    "    else row['match_winner'] == row['team_2'],\n",
    "    axis=1\n",
    ")\n",
    "\n",
    "# Build contingency table\n",
    "bat = df[df['batting_first'] == 1]['batting_first_won'].value_counts()\n",
    "bowl = df[df['batting_first'] == 0]['batting_first_won'].value_counts()\n",
    "\n",
    "table = [\n",
    "    [bat.get(True, 0), bat.get(False, 0)],\n",
    "    [bowl.get(True, 0), bowl.get(False, 0)]\n",
    "]\n",
    "\n",
    "chi2, p, _, _ = chi2_contingency(table)\n",
    "\n",
    "print(\"Chi-Square Test: Bowling vs Batting First\")\n",
    "print(f\"P-value: {round(p, 4)}\")\n",
    "if p < 0.05:\n",
    "    print(\"Statistically significant difference found.\")\n",
    "else:\n",
    "    print(\"No statistically significant advantage between bowling or batting first.\")"
   ]
  },
  {
   "cell_type": "code",
   "execution_count": 18,
   "id": "7c9abfe4-e34b-43ab-9235-6e6c675fac3c",
   "metadata": {},
   "outputs": [
    {
     "name": "stdout",
     "output_type": "stream",
     "text": [
      "🎯 Impact of 70+ Top Scorer:\n",
      "70+ and won:  0\n",
      "70+ and lost: 41\n",
      "<70 and won:  0\n",
      "<70 and lost: 32\n"
     ]
    }
   ],
   "source": [
    "# Which player had the highest average match impact when they were Player of the Match — combining top scorer and best bowling frequency?\n",
    "# Ensure numeric type\n",
    "df['highscore'] = pd.to_numeric(df['highscore'], errors='coerce')\n",
    "\n",
    "# Flag 70+ scores\n",
    "df['highscore_70plus'] = df['highscore'] >= 70\n",
    "df['top_scorer_won'] = df['top_scorer'] == df['match_winner']\n",
    "\n",
    "# Drop missing highscores\n",
    "df = df[df['highscore'].notna()]\n",
    "\n",
    "# Aggregate win/loss stats\n",
    "above_70 = df[df['highscore_70plus']]['top_scorer_won'].value_counts()\n",
    "below_70 = df[~df['highscore_70plus']]['top_scorer_won'].value_counts()\n",
    "\n",
    "print(\"🎯 Impact of 70+ Top Scorer:\")\n",
    "print(f\"70+ and won:  {above_70.get(True, 0)}\")\n",
    "print(f\"70+ and lost: {above_70.get(False, 0)}\")\n",
    "print(f\"<70 and won:  {below_70.get(True, 0)}\")\n",
    "print(f\"<70 and lost: {below_70.get(False, 0)}\")\n"
   ]
  },
  {
   "cell_type": "code",
   "execution_count": null,
   "id": "fee09bc9-965c-40f0-9e9b-4f40b4385cfd",
   "metadata": {},
   "outputs": [],
   "source": []
  }
 ],
 "metadata": {
  "kernelspec": {
   "display_name": "Python 3 (ipykernel)",
   "language": "python",
   "name": "python3"
  },
  "language_info": {
   "codemirror_mode": {
    "name": "ipython",
    "version": 3
   },
   "file_extension": ".py",
   "mimetype": "text/x-python",
   "name": "python",
   "nbconvert_exporter": "python",
   "pygments_lexer": "ipython3",
   "version": "3.13.5"
  }
 },
 "nbformat": 4,
 "nbformat_minor": 5
}
